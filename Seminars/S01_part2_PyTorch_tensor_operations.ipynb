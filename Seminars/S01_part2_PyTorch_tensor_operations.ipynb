{
  "nbformat": 4,
  "nbformat_minor": 0,
  "metadata": {
    "colab": {
      "provenance": [],
      "include_colab_link": true
    },
    "kernelspec": {
      "name": "python3",
      "display_name": "Python 3"
    },
    "language_info": {
      "name": "python"
    }
  },
  "cells": [
    {
      "cell_type": "markdown",
      "metadata": {
        "id": "view-in-github",
        "colab_type": "text"
      },
      "source": [
        "<a href=\"https://colab.research.google.com/github/Existanze54/sirius-neural-networks-2025/blob/main/Seminars/S01_part2_PyTorch_tensor_operations.ipynb\" target=\"_parent\"><img src=\"https://colab.research.google.com/assets/colab-badge.svg\" alt=\"Open In Colab\"/></a>"
      ]
    },
    {
      "cell_type": "markdown",
      "metadata": {
        "id": "JG1Kwx6ixIZP"
      },
      "source": [
        "# Нейронные сети в биоинформатике\n",
        "\n",
        "### Семинар 1: Подборка задач"
      ]
    },
    {
      "cell_type": "markdown",
      "source": [
        "#### Задача 1\n",
        "\n",
        "Создайте пустой тензор размера `(10,)`."
      ],
      "metadata": {
        "id": "OYXMMufn01Zi"
      }
    },
    {
      "cell_type": "code",
      "execution_count": null,
      "metadata": {
        "id": "9AsLNS4H0rgR"
      },
      "outputs": [],
      "source": []
    },
    {
      "cell_type": "markdown",
      "source": [
        "#### Задача 2\n",
        "\n",
        "Создайте тензор со значениями от 15 до 59."
      ],
      "metadata": {
        "id": "qbYunGuS1YQu"
      }
    },
    {
      "cell_type": "code",
      "source": [],
      "metadata": {
        "id": "MMeUtDAp1iNY"
      },
      "execution_count": null,
      "outputs": []
    },
    {
      "cell_type": "markdown",
      "source": [
        "#### Задача 3\n",
        "\n",
        "Создайте тензор 5x5 со значениями от 100 до 124."
      ],
      "metadata": {
        "id": "LQ5bFT411iZF"
      }
    },
    {
      "cell_type": "code",
      "source": [],
      "metadata": {
        "id": "dTB2K78d1xCa"
      },
      "execution_count": null,
      "outputs": []
    },
    {
      "cell_type": "markdown",
      "source": [
        "#### Задача 4\n",
        "\n",
        "Создайте единичную матрицу (тензор) размера 10."
      ],
      "metadata": {
        "id": "pMMc6axs1xM7"
      }
    },
    {
      "cell_type": "code",
      "source": [],
      "metadata": {
        "id": "qho9g0hb15jI"
      },
      "execution_count": null,
      "outputs": []
    },
    {
      "cell_type": "markdown",
      "source": [
        "#### Задача 5\n",
        "\n",
        "Создайте матрицу 10x20 со случайными значениями из нормального распределения. Найдите минимум:\n",
        "\n",
        "1. Глобально,\n",
        "2. По строкам,\n",
        "3. По столбцам."
      ],
      "metadata": {
        "id": "sFiYw-UM15to"
      }
    },
    {
      "cell_type": "code",
      "source": [],
      "metadata": {
        "id": "fbBkMPqa2K-W"
      },
      "execution_count": null,
      "outputs": []
    },
    {
      "cell_type": "markdown",
      "source": [
        "#### Задача 6\n",
        "\n",
        "Создайте тензор размера 32x32 из единиц, и заполните его края нулями."
      ],
      "metadata": {
        "id": "MuwcDjTE2LJa"
      }
    },
    {
      "cell_type": "code",
      "source": [],
      "metadata": {
        "id": "T7pBMFp12vY9"
      },
      "execution_count": null,
      "outputs": []
    },
    {
      "cell_type": "markdown",
      "source": [
        "#### Задача 7\n",
        "\n",
        "Сгенерируйте случайный тензор размера 30x30. Добавьте к нему поля из нулей (размер станет 32x32)."
      ],
      "metadata": {
        "id": "h_9qy9-m2vj0"
      }
    },
    {
      "cell_type": "code",
      "source": [],
      "metadata": {
        "id": "LktrRDkn27k4"
      },
      "execution_count": null,
      "outputs": []
    },
    {
      "cell_type": "markdown",
      "source": [
        "#### Задача 8\n",
        "\n",
        "Создайте тензор 8x8 и заполните его 0 и 1 в шахматном порядке."
      ],
      "metadata": {
        "id": "5skNFD07272r"
      }
    },
    {
      "cell_type": "code",
      "source": [],
      "metadata": {
        "id": "uQgm0CDy3FrP"
      },
      "execution_count": null,
      "outputs": []
    },
    {
      "cell_type": "markdown",
      "source": [
        "#### Задача 9\n",
        "\n",
        "Создайте случайный тензор и отсортируйте его."
      ],
      "metadata": {
        "id": "mj-JjkJ-3FAZ"
      }
    },
    {
      "cell_type": "code",
      "source": [],
      "metadata": {
        "id": "Es8RroGG3vCu"
      },
      "execution_count": null,
      "outputs": []
    },
    {
      "cell_type": "markdown",
      "source": [
        "#### Задача 10\n",
        "\n",
        "Сгенерируйте тензор из 100 случайных чисел из стандартного нормального распределения. Найдите в нем ближайшее число к 2."
      ],
      "metadata": {
        "id": "OBcgVZrn3vMl"
      }
    },
    {
      "cell_type": "code",
      "source": [],
      "metadata": {
        "id": "iBWiE0424ZvZ"
      },
      "execution_count": null,
      "outputs": []
    },
    {
      "cell_type": "markdown",
      "source": [
        "#### Задача 11\n",
        "\n",
        "Сгенерируйте 2 тензора размера `(30,)` - координаты 30 точек в двумерном пространстве. Найдите матрицу попарных расстояний для этих точек."
      ],
      "metadata": {
        "id": "2CzbomEq4aBm"
      }
    },
    {
      "cell_type": "code",
      "source": [],
      "metadata": {
        "id": "Q4UeE8qc47VP"
      },
      "execution_count": null,
      "outputs": []
    },
    {
      "cell_type": "markdown",
      "source": [
        "#### Задача 12\n",
        "\n",
        "Создайте случайный двумерный тензор произвольного размера. Вычтите из каждой строки ее среднее."
      ],
      "metadata": {
        "id": "gFIuIi0O47lv"
      }
    },
    {
      "cell_type": "code",
      "source": [],
      "metadata": {
        "id": "aC9KqlYd5NqN"
      },
      "execution_count": null,
      "outputs": []
    },
    {
      "cell_type": "markdown",
      "source": [
        "#### Задача 13\n",
        "\n",
        "Создайте одномерный тензор длины 100, числа в котором формируют \"пилу\" периода 10.\n",
        "\n",
        "Пример \"пилы\" периода 3: `[1, 2, 3, 1, 2, 3, 1, 2, 3, ...]`"
      ],
      "metadata": {
        "id": "9qh7y6IK5N4p"
      }
    },
    {
      "cell_type": "code",
      "source": [],
      "metadata": {
        "id": "gBZ_ZnEg66Ym"
      },
      "execution_count": null,
      "outputs": []
    },
    {
      "cell_type": "markdown",
      "source": [
        "#### Задача 14\n",
        "\n",
        "Создайте \"пилу\" длины 99 с периодом 10. Сделайте из нее тензор размера 11x9 и отсортируйте его по 2 колонке."
      ],
      "metadata": {
        "id": "ZYtjscPS66jC"
      }
    },
    {
      "cell_type": "code",
      "source": [],
      "metadata": {
        "id": "vXFuCYWO7SC4"
      },
      "execution_count": null,
      "outputs": []
    },
    {
      "cell_type": "markdown",
      "source": [
        "#### Задача 15\n",
        "\n",
        "Посчитайте средние четырехмерного массива сразу по двум последним измерениям."
      ],
      "metadata": {
        "id": "l_Zxntq27SN0"
      }
    },
    {
      "cell_type": "code",
      "source": [],
      "metadata": {
        "id": "VqP3iMyU7mhK"
      },
      "execution_count": null,
      "outputs": []
    },
    {
      "cell_type": "markdown",
      "source": [
        "#### Задача 16*\n",
        "\n",
        "Сгенерируйте тензор произвольной длины (более 100) и посчитайте средние в нем по окну размера 5."
      ],
      "metadata": {
        "id": "ly-pAhP57msA"
      }
    },
    {
      "cell_type": "code",
      "source": [],
      "metadata": {
        "id": "snxpk2_o8Fat"
      },
      "execution_count": null,
      "outputs": []
    }
  ]
}