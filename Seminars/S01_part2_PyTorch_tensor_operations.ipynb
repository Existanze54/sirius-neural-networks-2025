{
  "nbformat": 4,
  "nbformat_minor": 0,
  "metadata": {
    "colab": {
      "provenance": [],
      "include_colab_link": true
    },
    "kernelspec": {
      "name": "python3",
      "display_name": "Python 3"
    },
    "language_info": {
      "name": "python"
    }
  },
  "cells": [
    {
      "cell_type": "markdown",
      "metadata": {
        "id": "view-in-github",
        "colab_type": "text"
      },
      "source": [
        "<a href=\"https://colab.research.google.com/github/Existanze54/sirius-neural-networks-2025/blob/main/Seminars/S01_part2_PyTorch_tensor_operations.ipynb\" target=\"_parent\"><img src=\"https://colab.research.google.com/assets/colab-badge.svg\" alt=\"Open In Colab\"/></a>"
      ]
    },
    {
      "cell_type": "markdown",
      "metadata": {
        "id": "JG1Kwx6ixIZP"
      },
      "source": [
        "# Нейронные сети в биоинформатике\n",
        "\n",
        "### Семинар 1: Подборка задач"
      ]
    },
    {
      "cell_type": "markdown",
      "source": [
        "#### Задача 1\n",
        "\n",
        "Создайте пустой тензор размера `(10,)`."
      ],
      "metadata": {
        "id": "OYXMMufn01Zi"
      }
    },
    {
      "cell_type": "code",
      "execution_count": null,
      "metadata": {
        "id": "9AsLNS4H0rgR",
        "colab": {
          "base_uri": "https://localhost:8080/"
        },
        "outputId": "beef790d-2b17-4a9e-8427-0cfe350da79d"
      },
      "outputs": [
        {
          "output_type": "execute_result",
          "data": {
            "text/plain": [
              "tensor([-9.9299e+05,  4.4742e-41, -9.9299e+05,  4.4742e-41,  0.0000e+00,\n",
              "         0.0000e+00,  0.0000e+00,  0.0000e+00,  0.0000e+00,  6.2121e+22])"
            ]
          },
          "metadata": {},
          "execution_count": 2
        }
      ],
      "source": [
        "import torch\n",
        "x = torch.empty(10)\n",
        "x"
      ]
    },
    {
      "cell_type": "markdown",
      "source": [
        "#### Задача 2\n",
        "\n",
        "Создайте тензор со значениями от 15 до 59."
      ],
      "metadata": {
        "id": "qbYunGuS1YQu"
      }
    },
    {
      "cell_type": "code",
      "source": [
        "tensor2 = torch.arange(15, 60)\n",
        "tensor2"
      ],
      "metadata": {
        "id": "MMeUtDAp1iNY",
        "colab": {
          "base_uri": "https://localhost:8080/"
        },
        "outputId": "216d4195-e91c-4ce9-c86d-658203952089"
      },
      "execution_count": null,
      "outputs": [
        {
          "output_type": "execute_result",
          "data": {
            "text/plain": [
              "tensor([15, 16, 17, 18, 19, 20, 21, 22, 23, 24, 25, 26, 27, 28, 29, 30, 31, 32,\n",
              "        33, 34, 35, 36, 37, 38, 39, 40, 41, 42, 43, 44, 45, 46, 47, 48, 49, 50,\n",
              "        51, 52, 53, 54, 55, 56, 57, 58, 59])"
            ]
          },
          "metadata": {},
          "execution_count": 3
        }
      ]
    },
    {
      "cell_type": "markdown",
      "source": [
        "#### Задача 3\n",
        "\n",
        "Создайте тензор 5x5 со значениями от 100 до 124."
      ],
      "metadata": {
        "id": "LQ5bFT411iZF"
      }
    },
    {
      "cell_type": "code",
      "source": [
        "tensor3 = torch.arange(100, 125).reshape(5, 5)\n",
        "tensor3"
      ],
      "metadata": {
        "id": "dTB2K78d1xCa",
        "colab": {
          "base_uri": "https://localhost:8080/"
        },
        "outputId": "0c8d849d-670e-4c6b-99ff-808c489d6af2"
      },
      "execution_count": null,
      "outputs": [
        {
          "output_type": "execute_result",
          "data": {
            "text/plain": [
              "tensor([[100, 101, 102, 103, 104],\n",
              "        [105, 106, 107, 108, 109],\n",
              "        [110, 111, 112, 113, 114],\n",
              "        [115, 116, 117, 118, 119],\n",
              "        [120, 121, 122, 123, 124]])"
            ]
          },
          "metadata": {},
          "execution_count": 4
        }
      ]
    },
    {
      "cell_type": "code",
      "source": [
        "tensor3.shape"
      ],
      "metadata": {
        "colab": {
          "base_uri": "https://localhost:8080/"
        },
        "id": "j9KVbh9iNyGm",
        "outputId": "48437da9-89c8-40d5-ed05-95758f6064c8"
      },
      "execution_count": null,
      "outputs": [
        {
          "output_type": "execute_result",
          "data": {
            "text/plain": [
              "torch.Size([5, 5])"
            ]
          },
          "metadata": {},
          "execution_count": 6
        }
      ]
    },
    {
      "cell_type": "markdown",
      "source": [
        "#### Задача 4\n",
        "\n",
        "Создайте единичную матрицу (тензор) размера 10."
      ],
      "metadata": {
        "id": "pMMc6axs1xM7"
      }
    },
    {
      "cell_type": "code",
      "source": [
        "tensor4 = torch.eye(10)\n",
        "tensor4"
      ],
      "metadata": {
        "id": "qho9g0hb15jI",
        "colab": {
          "base_uri": "https://localhost:8080/"
        },
        "outputId": "4fe6d60c-cca5-4448-8288-793e84eebf06"
      },
      "execution_count": null,
      "outputs": [
        {
          "output_type": "execute_result",
          "data": {
            "text/plain": [
              "tensor([[1., 0., 0., 0., 0., 0., 0., 0., 0., 0.],\n",
              "        [0., 1., 0., 0., 0., 0., 0., 0., 0., 0.],\n",
              "        [0., 0., 1., 0., 0., 0., 0., 0., 0., 0.],\n",
              "        [0., 0., 0., 1., 0., 0., 0., 0., 0., 0.],\n",
              "        [0., 0., 0., 0., 1., 0., 0., 0., 0., 0.],\n",
              "        [0., 0., 0., 0., 0., 1., 0., 0., 0., 0.],\n",
              "        [0., 0., 0., 0., 0., 0., 1., 0., 0., 0.],\n",
              "        [0., 0., 0., 0., 0., 0., 0., 1., 0., 0.],\n",
              "        [0., 0., 0., 0., 0., 0., 0., 0., 1., 0.],\n",
              "        [0., 0., 0., 0., 0., 0., 0., 0., 0., 1.]])"
            ]
          },
          "metadata": {},
          "execution_count": 8
        }
      ]
    },
    {
      "cell_type": "markdown",
      "source": [
        "#### Задача 5\n",
        "\n",
        "Создайте матрицу 10x20 со случайными значениями из нормального распределения. Найдите минимум:\n",
        "\n",
        "1. Глобально,\n",
        "2. По строкам,\n",
        "3. По столбцам."
      ],
      "metadata": {
        "id": "sFiYw-UM15to"
      }
    },
    {
      "cell_type": "code",
      "source": [
        "tensor5 = torch.randn(10, 20)\n",
        "min_global = tensor5.min()\n",
        "min_global.item()\n",
        "min_rows = tensor5.min(axis = 1)\n",
        "print(min_rows)\n",
        "min_cols = tensor5.min(axis = 0)\n",
        "print(min_cols[0][0])"
      ],
      "metadata": {
        "id": "fbBkMPqa2K-W",
        "colab": {
          "base_uri": "https://localhost:8080/"
        },
        "outputId": "3bdcf9e6-dabb-4730-e091-56c35c5d0782"
      },
      "execution_count": null,
      "outputs": [
        {
          "output_type": "stream",
          "name": "stdout",
          "text": [
            "torch.return_types.min(\n",
            "values=tensor([-1.3263, -1.9047, -2.6638, -1.4624, -1.5380, -1.1616, -1.9660, -1.2897,\n",
            "        -1.9532, -2.3272]),\n",
            "indices=tensor([16,  1, 18,  6,  3,  2, 16,  1, 15, 18]))\n",
            "-0.8041250705718994\n"
          ]
        }
      ]
    },
    {
      "cell_type": "markdown",
      "source": [
        "#### Задача 6\n",
        "\n",
        "Создайте тензор размера 32x32 из единиц, и заполните его края нулями."
      ],
      "metadata": {
        "id": "MuwcDjTE2LJa"
      }
    },
    {
      "cell_type": "code",
      "source": [
        "tensor6 = torch.ones(32, 32)\n",
        "tensor6[:, [0, -1]] = 0\n",
        "tensor6[[0, -1], :] = 0\n",
        "tensor6"
      ],
      "metadata": {
        "id": "T7pBMFp12vY9",
        "colab": {
          "base_uri": "https://localhost:8080/"
        },
        "outputId": "b61508f6-8bda-4287-a6ea-f778f9fc0992"
      },
      "execution_count": null,
      "outputs": [
        {
          "output_type": "execute_result",
          "data": {
            "text/plain": [
              "tensor([[0., 0., 0.,  ..., 0., 0., 0.],\n",
              "        [0., 1., 1.,  ..., 1., 1., 0.],\n",
              "        [0., 1., 1.,  ..., 1., 1., 0.],\n",
              "        ...,\n",
              "        [0., 1., 1.,  ..., 1., 1., 0.],\n",
              "        [0., 1., 1.,  ..., 1., 1., 0.],\n",
              "        [0., 0., 0.,  ..., 0., 0., 0.]])"
            ]
          },
          "metadata": {},
          "execution_count": 22
        }
      ]
    },
    {
      "cell_type": "markdown",
      "source": [
        "#### Задача 7\n",
        "\n",
        "Сгенерируйте случайный тензор размера 30x30. Добавьте к нему поля из нулей (размер станет 32x32)."
      ],
      "metadata": {
        "id": "h_9qy9-m2vj0"
      }
    },
    {
      "cell_type": "code",
      "source": [
        "tensor7 = torch.rand(30, 30)\n",
        "tensor_0 = torch.zeros(32, 32)\n",
        "tensor_0[1:-1, 1:-1] = tensor7\n",
        "tensor_0"
      ],
      "metadata": {
        "id": "LktrRDkn27k4",
        "colab": {
          "base_uri": "https://localhost:8080/"
        },
        "outputId": "13443172-e907-4008-dcce-6984e86018f7"
      },
      "execution_count": null,
      "outputs": [
        {
          "output_type": "execute_result",
          "data": {
            "text/plain": [
              "tensor([[0.0000, 0.0000, 0.0000,  ..., 0.0000, 0.0000, 0.0000],\n",
              "        [0.0000, 0.6114, 0.2404,  ..., 0.0089, 0.7439, 0.0000],\n",
              "        [0.0000, 0.2879, 0.5999,  ..., 0.0412, 0.8312, 0.0000],\n",
              "        ...,\n",
              "        [0.0000, 0.6976, 0.6192,  ..., 0.4554, 0.1465, 0.0000],\n",
              "        [0.0000, 0.7089, 0.8203,  ..., 0.7426, 0.3252, 0.0000],\n",
              "        [0.0000, 0.0000, 0.0000,  ..., 0.0000, 0.0000, 0.0000]])"
            ]
          },
          "metadata": {},
          "execution_count": 26
        }
      ]
    },
    {
      "cell_type": "markdown",
      "source": [
        "#### Задача 8\n",
        "\n",
        "Создайте тензор 8x8 и заполните его 0 и 1 в шахматном порядке."
      ],
      "metadata": {
        "id": "5skNFD07272r"
      }
    },
    {
      "cell_type": "code",
      "source": [
        "tensor8 = torch.ones(8, 8)\n",
        "tensor8[::2,::2] = 0\n",
        "tensor8[1::2, 1::2] = 0\n",
        "tensor8"
      ],
      "metadata": {
        "id": "uQgm0CDy3FrP",
        "colab": {
          "base_uri": "https://localhost:8080/"
        },
        "outputId": "329cfbe8-bdbc-4687-9aab-03b5f78d4906"
      },
      "execution_count": null,
      "outputs": [
        {
          "output_type": "execute_result",
          "data": {
            "text/plain": [
              "tensor([[0., 1., 0., 1., 0., 1., 0., 1.],\n",
              "        [1., 0., 1., 0., 1., 0., 1., 0.],\n",
              "        [0., 1., 0., 1., 0., 1., 0., 1.],\n",
              "        [1., 0., 1., 0., 1., 0., 1., 0.],\n",
              "        [0., 1., 0., 1., 0., 1., 0., 1.],\n",
              "        [1., 0., 1., 0., 1., 0., 1., 0.],\n",
              "        [0., 1., 0., 1., 0., 1., 0., 1.],\n",
              "        [1., 0., 1., 0., 1., 0., 1., 0.]])"
            ]
          },
          "metadata": {},
          "execution_count": 34
        }
      ]
    },
    {
      "cell_type": "markdown",
      "source": [
        "#### Задача 9\n",
        "\n",
        "Создайте случайный тензор и отсортируйте его."
      ],
      "metadata": {
        "id": "mj-JjkJ-3FAZ"
      }
    },
    {
      "cell_type": "code",
      "source": [],
      "metadata": {
        "id": "Es8RroGG3vCu"
      },
      "execution_count": null,
      "outputs": []
    },
    {
      "cell_type": "markdown",
      "source": [
        "#### Задача 10\n",
        "\n",
        "Сгенерируйте тензор из 100 случайных чисел из стандартного нормального распределения. Найдите в нем ближайшее число к 2."
      ],
      "metadata": {
        "id": "OBcgVZrn3vMl"
      }
    },
    {
      "cell_type": "code",
      "source": [],
      "metadata": {
        "id": "iBWiE0424ZvZ"
      },
      "execution_count": null,
      "outputs": []
    },
    {
      "cell_type": "markdown",
      "source": [
        "#### Задача 11\n",
        "\n",
        "Сгенерируйте 2 тензора размера `(30,)` - координаты 30 точек в двумерном пространстве. Найдите матрицу попарных расстояний для этих точек."
      ],
      "metadata": {
        "id": "2CzbomEq4aBm"
      }
    },
    {
      "cell_type": "code",
      "source": [],
      "metadata": {
        "id": "Q4UeE8qc47VP"
      },
      "execution_count": null,
      "outputs": []
    },
    {
      "cell_type": "markdown",
      "source": [
        "#### Задача 12\n",
        "\n",
        "Создайте случайный двумерный тензор произвольного размера. Вычтите из каждой строки ее среднее."
      ],
      "metadata": {
        "id": "gFIuIi0O47lv"
      }
    },
    {
      "cell_type": "code",
      "source": [],
      "metadata": {
        "id": "aC9KqlYd5NqN"
      },
      "execution_count": null,
      "outputs": []
    },
    {
      "cell_type": "markdown",
      "source": [
        "#### Задача 13\n",
        "\n",
        "Создайте одномерный тензор длины 100, числа в котором формируют \"пилу\" периода 10.\n",
        "\n",
        "Пример \"пилы\" периода 3: `[1, 2, 3, 1, 2, 3, 1, 2, 3, ...]`"
      ],
      "metadata": {
        "id": "9qh7y6IK5N4p"
      }
    },
    {
      "cell_type": "code",
      "source": [],
      "metadata": {
        "id": "gBZ_ZnEg66Ym"
      },
      "execution_count": null,
      "outputs": []
    },
    {
      "cell_type": "markdown",
      "source": [
        "#### Задача 14\n",
        "\n",
        "Создайте \"пилу\" длины 99 с периодом 10. Сделайте из нее тензор размера 11x9 и отсортируйте его по 2 колонке."
      ],
      "metadata": {
        "id": "ZYtjscPS66jC"
      }
    },
    {
      "cell_type": "code",
      "source": [],
      "metadata": {
        "id": "vXFuCYWO7SC4"
      },
      "execution_count": null,
      "outputs": []
    },
    {
      "cell_type": "markdown",
      "source": [
        "#### Задача 15\n",
        "\n",
        "Посчитайте средние четырехмерного массива сразу по двум последним измерениям."
      ],
      "metadata": {
        "id": "l_Zxntq27SN0"
      }
    },
    {
      "cell_type": "code",
      "source": [],
      "metadata": {
        "id": "VqP3iMyU7mhK"
      },
      "execution_count": null,
      "outputs": []
    },
    {
      "cell_type": "markdown",
      "source": [
        "#### Задача 16*\n",
        "\n",
        "Сгенерируйте тензор произвольной длины (более 100) и посчитайте средние в нем по окну размера 5."
      ],
      "metadata": {
        "id": "ly-pAhP57msA"
      }
    },
    {
      "cell_type": "code",
      "source": [],
      "metadata": {
        "id": "snxpk2_o8Fat"
      },
      "execution_count": null,
      "outputs": []
    }
  ]
}